{
 "cells": [
  {
   "cell_type": "markdown",
   "metadata": {},
   "source": [
    "<a target=\"_blank\" href=\"https://colab.research.google.com/github/sonder-art/automl_p24/blob/main/codigo/automl/2_eleccion_tasa_interes.ipynb\">\n",
    "  <img src=\"https://colab.research.google.com/assets/colab-badge.svg\" alt=\"Open In Colab\"/>\n",
    "</a>"
   ]
  },
  {
   "cell_type": "markdown",
   "metadata": {},
   "source": [
    "# Eleccion de tasas de interes"
   ]
  },
  {
   "cell_type": "markdown",
   "metadata": {},
   "source": [
    "El objetivo de este notebook es suferir tasas de interes basandonos en el modelo, por lo tanto verifica que tu modelo este bien calibrado, de no estarlo justifica que podrias hacer y que implicaciones tendria. Recuerda que es un escenario real, por lo que debes justificarselo al banco."
   ]
  },
  {
   "cell_type": "markdown",
   "metadata": {},
   "source": [
    "Elige unicamente un modelo para realizar esta tarea, y justifica por que elgiste este modelo, puede ser interpretable, no interpretable o lo que tu quieras, sin embargo justifica por que lo elegiste."
   ]
  },
  {
   "cell_type": "markdown",
   "metadata": {},
   "source": [
    "Justifica que sets vas a utilizar train/validation/test o algun otro para calcular la calibracion o para proponer las tasas de interes."
   ]
  },
  {
   "cell_type": "markdown",
   "metadata": {},
   "source": [
    "# Cargar modelo de Autolguon"
   ]
  },
  {
   "cell_type": "markdown",
   "metadata": {},
   "source": [
    "Si no sabes como cargar el modelo(s) que entrenaste  puedes revisar la documentacion https://auto.gluon.ai/stable/api/autogluon.tabular.TabularPredictor.load.html \n",
    "\n",
    "Para cargar el modelo, debes haberlo salvado (clonado) previamente."
   ]
  },
  {
   "cell_type": "code",
   "execution_count": null,
   "metadata": {
    "vscode": {
     "languageId": "plaintext"
    }
   },
   "outputs": [],
   "source": []
  },
  {
   "cell_type": "markdown",
   "metadata": {},
   "source": [
    "# Calibracion"
   ]
  },
  {
   "cell_type": "markdown",
   "metadata": {},
   "source": [
    "En esta seccion deberas revisar la calibracion de tu modelo para sustentar que se utilice para generar tasas de interes, que necesitan probabilidad (no class scores)."
   ]
  },
  {
   "cell_type": "markdown",
   "metadata": {},
   "source": [
    "Coloca graficas o tablas para medir la calibracion de tu modelo. Recuerda explicar que esta pasando, justificar por que esta bien calibrado o no. Y en caso de no estarlo explicar cual es el efecto de que no esta calibrado y que podrias hacer para calibrarlo si te dieran mas tiempo"
   ]
  },
  {
   "cell_type": "code",
   "execution_count": null,
   "metadata": {
    "vscode": {
     "languageId": "plaintext"
    }
   },
   "outputs": [],
   "source": []
  },
  {
   "cell_type": "markdown",
   "metadata": {},
   "source": [
    "# Tasa de Interes"
   ]
  },
  {
   "cell_type": "markdown",
   "metadata": {},
   "source": [
    "En este apartado deberas de crear recomendaciones, funciones y politicas para sugerir tasas de interes al banco basandote en los modelos. Ten cuidado en que sets utilizas para evaluar tus politicas, al final del dia lo que mas le importa al banco es que tu aproximacion sea real."
   ]
  },
  {
   "cell_type": "markdown",
   "metadata": {},
   "source": [
    "Explica detalladamente por que elegiste cada politica en especifico, por que resuelve el problema que planteamos."
   ]
  },
  {
   "cell_type": "markdown",
   "metadata": {},
   "source": [
    "`Explicacion`  \n",
    "La aproximacion mas sencilla del valor esperado del prestamo **como lo vimos en las sesiones de clase** es:  \n",
    "`E[pago] = Prob(pago)*(1 + interes)Prestamo + P(Impago)(0)` El (0) viene de que no hubo pago. para simplificar asumimos que no paga ningun mes.     \n",
    "`E[ganancia] =  Prob(pago)*(1 + interes)*Prestamo + P(Impago)(0) - Prestamo` Tenemos que descontar el prestamo inicial para calcular la ganancia.  \n",
    "  \n",
    "Si definimos:  \n",
    "+ Probabilidad de Impago: `p`\n",
    "+ Probabilidad de Pago := `1-p`\n",
    "+ Interes := `r`\n",
    "+ Prestamo := `M`  \n",
    "+ Valor Esperado de la Ganancia (`E[Ganancia] = E[Pago] - M`)  := `E`\n",
    "+ Multiplicador de Ganancias:= `Q`, de tal manera que si se quiere ganar Q veces el principal entonces seria `QM`. Para `ganancias igual a cero` tenemos que `E=0M` (`Q=0`), y para `1.5 veces el principal` (osea .5 de ganancia sobre el principal) seria `E=.5M` con `Q=.5`.\n",
    "\n",
    "Entonces tenemos que:  \n",
    "`E = (1-p)(1+r)M - p(0) - M`    \n",
    "`E = (1 + r - p - pr)M - M`    \n",
    "`E = M(1 + r - p - pr - 1)`  \n",
    "`E = M(r - p - pr)`    \n",
    "`E/M = r - pr - p`  \n",
    "`E/M + p = r(1-p)`  \n",
    "`1/(1-p)(E/M + p) = r`  \n",
    "  \n",
    "Ahora si sustituimos `E` por `QM` tenemos que:  \n",
    "`1/(1-p)(QM/M + p) = r`  \n",
    "`1/(1-p)(Q + p) = r`  \n",
    "`(Q + p)/(1-p) = r`  \n",
    "\n",
    "\n",
    "Si el valor esperado del prestamo es cero (`E=0=0M` con `Q=0`), entonces:  \n",
    "`p/(1-p) = r`  \n",
    "  \n",
    "Si el valor esperado dede ganancia del prestamo es `Q=.5` (pago total de 1.5 del inicial, menos el dinero prestado `1.5M - M` ) veces el prestamo inicial `QM = .5M`, entonces:  \n",
    "`(.5 + p)/(1-p) = r`  \n",
    " \n",
    "\n",
    "\n",
    "En estricto sentido esto es solo una aproximacion pues asume que la probabilidad de impago es la cantidad de meses que va a pagar, sin interes acumulado.\n",
    "\n",
    " Ademas no olvidar que lo que arroja el modelo no son probabilidades, sino `class scores` pero por simplicidad asumamos que son  probabilidades.  \n",
    "\n",
    "### **Problemas Reales**  \n",
    "\n",
    "**Calcular mal este valor esperado podria causar perdidas millonarias al banco, saber utilizar los modelos es tan importe como saber entrenarlos.**\n"
   ]
  },
  {
   "cell_type": "markdown",
   "metadata": {},
   "source": []
  },
  {
   "cell_type": "markdown",
   "metadata": {},
   "source": [
    "## Escenario 1"
   ]
  },
  {
   "cell_type": "markdown",
   "metadata": {},
   "source": [
    "Valor esperado de la ganancia del prestamo igual a cero, osea que si se realiza el prestamo el valor esperado de los pagos realizados a la persona sea de 100%. Basicamente que no se peirda ni se gane con el prestamo.\n"
   ]
  },
  {
   "cell_type": "code",
   "execution_count": null,
   "metadata": {
    "vscode": {
     "languageId": "plaintext"
    }
   },
   "outputs": [],
   "source": []
  },
  {
   "cell_type": "code",
   "execution_count": null,
   "metadata": {
    "vscode": {
     "languageId": "plaintext"
    }
   },
   "outputs": [],
   "source": [
    "Explicacion: "
   ]
  },
  {
   "cell_type": "markdown",
   "metadata": {},
   "source": [
    "## Escenario 2"
   ]
  },
  {
   "cell_type": "markdown",
   "metadata": {},
   "source": [
    "Que el valor esperado del prestamo sea igual a 120% o(20% de ganancia). Osea que dadas las probabilidades del modelo el valor esperado del retorno del prestamo sea 20% (o 20% mas que cuando el valor esperado de la ganancia del prestamo era 0%"
   ]
  },
  {
   "cell_type": "code",
   "execution_count": null,
   "metadata": {
    "vscode": {
     "languageId": "plaintext"
    }
   },
   "outputs": [],
   "source": []
  },
  {
   "cell_type": "code",
   "execution_count": null,
   "metadata": {
    "vscode": {
     "languageId": "plaintext"
    }
   },
   "outputs": [],
   "source": [
    "Explicacion: "
   ]
  },
  {
   "cell_type": "markdown",
   "metadata": {},
   "source": [
    "## Escenario 3"
   ]
  },
  {
   "cell_type": "markdown",
   "metadata": {},
   "source": [
    "Que el numero maximo de personas que caigan en impago sea de 10%. Osea que al realizar el prestamo a lo mas el 10% de las personas no pague."
   ]
  },
  {
   "cell_type": "code",
   "execution_count": null,
   "metadata": {
    "vscode": {
     "languageId": "plaintext"
    }
   },
   "outputs": [],
   "source": []
  },
  {
   "cell_type": "code",
   "execution_count": null,
   "metadata": {
    "vscode": {
     "languageId": "plaintext"
    }
   },
   "outputs": [],
   "source": [
    "Explicacion: "
   ]
  },
  {
   "cell_type": "markdown",
   "metadata": {},
   "source": [
    "# Explicacion"
   ]
  },
  {
   "cell_type": "markdown",
   "metadata": {},
   "source": [
    "Explica detalladamente los problemas que podria tener tu modelo y los supuestos que decidiste tomar para simplificar el ejercicio y que implicaciones tiene en la realidad."
   ]
  },
  {
   "cell_type": "code",
   "execution_count": null,
   "metadata": {
    "vscode": {
     "languageId": "plaintext"
    }
   },
   "outputs": [],
   "source": []
  }
 ],
 "metadata": {
  "language_info": {
   "name": "python"
  }
 },
 "nbformat": 4,
 "nbformat_minor": 2
}
