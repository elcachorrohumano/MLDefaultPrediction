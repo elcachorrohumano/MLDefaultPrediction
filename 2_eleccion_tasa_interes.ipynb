{
 "cells": [
  {
   "cell_type": "code",
   "execution_count": 20,
   "metadata": {},
   "outputs": [],
   "source": [
    "from autogluon.tabular import TabularPredictor\n",
    "import pandas as pd"
   ]
  },
  {
   "cell_type": "markdown",
   "metadata": {},
   "source": [
    "# Eleccion de tasas de interes"
   ]
  },
  {
   "cell_type": "markdown",
   "metadata": {},
   "source": [
    "El objetivo de este notebook es suferir tasas de interes basandonos en el modelo, por lo tanto verifica que tu modelo este bien calibrado, de no estarlo justifica que podrias hacer y que implicaciones tendria. Recuerda que es un escenario real, por lo que debes justificarselo al banco."
   ]
  },
  {
   "cell_type": "markdown",
   "metadata": {},
   "source": [
    "Elige unicamente un modelo para realizar esta tarea, y justifica por que elgiste este modelo, puede ser interpretable, no interpretable o lo que tu quieras, sin embargo justifica por que lo elegiste."
   ]
  },
  {
   "cell_type": "markdown",
   "metadata": {},
   "source": [
    "Justifica que sets vas a utilizar train/validation/test o algun otro para calcular la calibracion o para proponer las tasas de interes."
   ]
  },
  {
   "cell_type": "markdown",
   "metadata": {},
   "source": [
    "# Cargar modelo de Autolguon"
   ]
  },
  {
   "cell_type": "markdown",
   "metadata": {},
   "source": [
    "Si no sabes como cargar el modelo(s) que entrenaste  puedes revisar la documentacion https://auto.gluon.ai/stable/api/autogluon.tabular.TabularPredictor.load.html \n",
    "\n",
    "Para cargar el modelo, debes haberlo salvado (clonado) previamente."
   ]
  },
  {
   "cell_type": "code",
   "execution_count": 29,
   "metadata": {},
   "outputs": [],
   "source": [
    "rf = TabularPredictor.load('RandomForest')\n",
    "test_df = pd.read_parquet('test_df.parquet')\n"
   ]
  },
  {
   "cell_type": "markdown",
   "metadata": {},
   "source": [
    "# Calibracion"
   ]
  },
  {
   "cell_type": "markdown",
   "metadata": {},
   "source": [
    "En esta seccion deberas revisar la calibracion de tu modelo para sustentar que se utilice para generar tasas de interes, que necesitan probabilidad (no class scores)."
   ]
  },
  {
   "cell_type": "markdown",
   "metadata": {},
   "source": [
    "Coloca graficas o tablas para medir la calibracion de tu modelo. Recuerda explicar que esta pasando, justificar por que esta bien calibrado o no. Y en caso de no estarlo explicar cual es el efecto de que no esta calibrado y que podrias hacer para calibrarlo si te dieran mas tiempo"
   ]
  },
  {
   "cell_type": "code",
   "execution_count": 32,
   "metadata": {},
   "outputs": [
    {
     "data": {
      "text/html": [
       "<div>\n",
       "<style scoped>\n",
       "    .dataframe tbody tr th:only-of-type {\n",
       "        vertical-align: middle;\n",
       "    }\n",
       "\n",
       "    .dataframe tbody tr th {\n",
       "        vertical-align: top;\n",
       "    }\n",
       "\n",
       "    .dataframe thead th {\n",
       "        text-align: right;\n",
       "    }\n",
       "</style>\n",
       "<table border=\"1\" class=\"dataframe\">\n",
       "  <thead>\n",
       "    <tr style=\"text-align: right;\">\n",
       "      <th></th>\n",
       "      <th>0</th>\n",
       "      <th>1</th>\n",
       "    </tr>\n",
       "  </thead>\n",
       "  <tbody>\n",
       "    <tr>\n",
       "      <th>55741</th>\n",
       "      <td>1.000000</td>\n",
       "      <td>7.353054e-09</td>\n",
       "    </tr>\n",
       "    <tr>\n",
       "      <th>35406</th>\n",
       "      <td>0.965847</td>\n",
       "      <td>3.415258e-02</td>\n",
       "    </tr>\n",
       "    <tr>\n",
       "      <th>66066</th>\n",
       "      <td>0.980403</td>\n",
       "      <td>1.959728e-02</td>\n",
       "    </tr>\n",
       "    <tr>\n",
       "      <th>10788</th>\n",
       "      <td>0.863231</td>\n",
       "      <td>1.367685e-01</td>\n",
       "    </tr>\n",
       "    <tr>\n",
       "      <th>70834</th>\n",
       "      <td>0.941925</td>\n",
       "      <td>5.807480e-02</td>\n",
       "    </tr>\n",
       "    <tr>\n",
       "      <th>...</th>\n",
       "      <td>...</td>\n",
       "      <td>...</td>\n",
       "    </tr>\n",
       "    <tr>\n",
       "      <th>17331</th>\n",
       "      <td>0.554168</td>\n",
       "      <td>4.458316e-01</td>\n",
       "    </tr>\n",
       "    <tr>\n",
       "      <th>19490</th>\n",
       "      <td>0.687403</td>\n",
       "      <td>3.125972e-01</td>\n",
       "    </tr>\n",
       "    <tr>\n",
       "      <th>24995</th>\n",
       "      <td>1.000000</td>\n",
       "      <td>7.353054e-09</td>\n",
       "    </tr>\n",
       "    <tr>\n",
       "      <th>46439</th>\n",
       "      <td>0.989250</td>\n",
       "      <td>1.075007e-02</td>\n",
       "    </tr>\n",
       "    <tr>\n",
       "      <th>54549</th>\n",
       "      <td>0.519363</td>\n",
       "      <td>4.806370e-01</td>\n",
       "    </tr>\n",
       "  </tbody>\n",
       "</table>\n",
       "<p>17228 rows × 2 columns</p>\n",
       "</div>"
      ],
      "text/plain": [
       "              0             1\n",
       "55741  1.000000  7.353054e-09\n",
       "35406  0.965847  3.415258e-02\n",
       "66066  0.980403  1.959728e-02\n",
       "10788  0.863231  1.367685e-01\n",
       "70834  0.941925  5.807480e-02\n",
       "...         ...           ...\n",
       "17331  0.554168  4.458316e-01\n",
       "19490  0.687403  3.125972e-01\n",
       "24995  1.000000  7.353054e-09\n",
       "46439  0.989250  1.075007e-02\n",
       "54549  0.519363  4.806370e-01\n",
       "\n",
       "[17228 rows x 2 columns]"
      ]
     },
     "execution_count": 32,
     "metadata": {},
     "output_type": "execute_result"
    }
   ],
   "source": [
    "test_proba = rf.predict_proba(test_df)\n",
    "test_proba"
   ]
  },
  {
   "cell_type": "code",
   "execution_count": 34,
   "metadata": {},
   "outputs": [],
   "source": [
    "test_df['payment_proba'] = test_proba[0]"
   ]
  },
  {
   "cell_type": "markdown",
   "metadata": {},
   "source": [
    "# Tasa de Interes"
   ]
  },
  {
   "cell_type": "markdown",
   "metadata": {},
   "source": [
    "En este apartado deberas de crear recomendaciones, funciones y politicas para sugerir tasas de interes al banco basandote en los modelos. Ten cuidado en que sets utilizas para evaluar tus politicas, al final del dia lo que mas le importa al banco es que tu aproximacion sea real."
   ]
  },
  {
   "cell_type": "markdown",
   "metadata": {},
   "source": [
    "Explica detalladamente por que elegiste cada politica en especifico, por que resuelve el problema que planteamos."
   ]
  },
  {
   "cell_type": "markdown",
   "metadata": {},
   "source": [
    "`Explicacion`  \n",
    "La aproximacion mas sencilla del valor esperado del prestamo **como lo vimos en las sesiones de clase** es:  \n",
    "`E[pago] = Prob(pago)*(1 + interes)Prestamo + P(Impago)(0)` El (0) viene de que no hubo pago. para simplificar asumimos que no paga ningun mes.     \n",
    "`E[ganancia] =  Prob(pago)*(1 + interes)*Prestamo + P(Impago)(0) - Prestamo` Tenemos que descontar el prestamo inicial para calcular la ganancia.  \n",
    "  \n",
    "Si definimos:  \n",
    "+ Probabilidad de Impago: `p`\n",
    "+ Probabilidad de Pago := `1-p`\n",
    "+ Interes := `r`\n",
    "+ Prestamo := `M`  \n",
    "+ Valor Esperado de la Ganancia (`E[Ganancia] = E[Pago] - M`)  := `E`\n",
    "+ Multiplicador de Ganancias:= `Q`, de tal manera que si se quiere ganar Q veces el principal entonces seria `QM`. Para `ganancias igual a cero` tenemos que `E=0M` (`Q=0`), y para `1.5 veces el principal` (osea .5 de ganancia sobre el principal) seria `E=.5M` con `Q=.5`.\n",
    "\n",
    "Entonces tenemos que:  \n",
    "`E = (1-p)(1+r)M - p(0) - M`    \n",
    "`E = (1 + r - p - pr)M - M`    \n",
    "`E = M(1 + r - p - pr - 1)`  \n",
    "`E = M(r - p - pr)`    \n",
    "`E/M = r - pr - p`  \n",
    "`E/M + p = r(1-p)`  \n",
    "`1/(1-p)(E/M + p) = r`  \n",
    "  \n",
    "Ahora si sustituimos `E` por `QM` tenemos que:  \n",
    "`1/(1-p)(QM/M + p) = r`  \n",
    "`1/(1-p)(Q + p) = r`  \n",
    "`(Q + p)/(1-p) = r`  \n",
    "\n",
    "\n",
    "Si el valor esperado del prestamo es cero (`E=0=0M` con `Q=0`), entonces:  \n",
    "`p/(1-p) = r`  \n",
    "  \n",
    "Si el valor esperado dede ganancia del prestamo es `Q=.5` (pago total de 1.5 del inicial, menos el dinero prestado `1.5M - M` ) veces el prestamo inicial `QM = .5M`, entonces:  \n",
    "`(.5 + p)/(1-p) = r`  \n",
    " \n",
    "\n",
    "\n",
    "En estricto sentido esto es solo una aproximacion pues asume que la probabilidad de impago es la cantidad de meses que va a pagar, sin interes acumulado.\n",
    "\n",
    " Ademas no olvidar que lo que arroja el modelo no son probabilidades, sino `class scores` pero por simplicidad asumamos que son  probabilidades.  \n",
    "\n",
    "### **Problemas Reales**  \n",
    "\n",
    "**Calcular mal este valor esperado podria causar perdidas millonarias al banco, saber utilizar los modelos es tan importe como saber entrenarlos.**\n"
   ]
  },
  {
   "cell_type": "markdown",
   "metadata": {},
   "source": []
  },
  {
   "cell_type": "markdown",
   "metadata": {},
   "source": [
    "## Escenario 1"
   ]
  },
  {
   "cell_type": "markdown",
   "metadata": {},
   "source": [
    "Valor esperado de la ganancia del prestamo igual a cero, osea que si se realiza el prestamo el valor esperado de los pagos realizados a la persona sea de 100%. Basicamente que no se peirda ni se gane con el prestamo.\n"
   ]
  },
  {
   "cell_type": "code",
   "execution_count": 35,
   "metadata": {},
   "outputs": [
    {
     "data": {
      "text/plain": [
       "count    1.722800e+04\n",
       "mean     1.888658e+00\n",
       "std      8.410638e+00\n",
       "min      7.353054e-09\n",
       "25%      2.984714e-03\n",
       "50%      2.241970e-02\n",
       "75%      3.337372e-01\n",
       "max      2.083508e+02\n",
       "Name: r_escenario_1, dtype: float64"
      ]
     },
     "execution_count": 35,
     "metadata": {},
     "output_type": "execute_result"
    }
   ],
   "source": [
    "# Calcular la tasa de interés para cada préstamo\n",
    "test_df['r_escenario_1'] = 1/test_df['payment_proba'] -1\n",
    "test_df['r_escenario_1'].describe()"
   ]
  },
  {
   "cell_type": "code",
   "execution_count": 36,
   "metadata": {},
   "outputs": [
    {
     "name": "stdout",
     "output_type": "stream",
     "text": [
      "Total expected return: 100.00%\n"
     ]
    }
   ],
   "source": [
    "# Calculate the expected return for each loan by multiplying the predicted probability of repayment by 1.2\n",
    "expected_return = test_df['payment_proba'] * (test_df['loan_amnt'] * (1 + test_df['r_escenario_1']))\n",
    "# Calculate the total expected return as a percentage of the total loan amount\n",
    "t_r = expected_return.sum() / test_df['loan_amnt'].sum()\n",
    "\n",
    "# Print the total expected return as a percentage\n",
    "print(\"Total expected return: {:.2f}%\".format(t_r * 100))"
   ]
  },
  {
   "cell_type": "markdown",
   "metadata": {},
   "source": [
    "Explicación: Necesitas una tasa de interés de 1/P(pago) - 1 para tener un retorno del 100%"
   ]
  },
  {
   "cell_type": "markdown",
   "metadata": {},
   "source": [
    "## Escenario 2"
   ]
  },
  {
   "cell_type": "markdown",
   "metadata": {},
   "source": [
    "Que el valor esperado del prestamo sea igual a 120% o(20% de ganancia). Osea que dadas las probabilidades del modelo el valor esperado del retorno del prestamo sea 20% (o 20% mas que cuando el valor esperado de la ganancia del prestamo era 0%"
   ]
  },
  {
   "cell_type": "code",
   "execution_count": 37,
   "metadata": {},
   "outputs": [
    {
     "data": {
      "text/plain": [
       "count    17228.000000\n",
       "mean         2.466389\n",
       "std         10.092765\n",
       "min          0.200000\n",
       "25%          0.203582\n",
       "50%          0.226904\n",
       "75%          0.600485\n",
       "max        250.221001\n",
       "Name: r_escenario_2, dtype: float64"
      ]
     },
     "execution_count": 37,
     "metadata": {},
     "output_type": "execute_result"
    }
   ],
   "source": [
    "# Calcular la tasa de interés para cada préstamo\n",
    "test_df['r_escenario_2'] = 1.2/test_df['payment_proba'] -1\n",
    "test_df['r_escenario_2'].describe()"
   ]
  },
  {
   "cell_type": "code",
   "execution_count": 38,
   "metadata": {},
   "outputs": [
    {
     "name": "stdout",
     "output_type": "stream",
     "text": [
      "Total expected return: 120.00%\n"
     ]
    }
   ],
   "source": [
    "expected_return = test_df['payment_proba'] * (test_df['loan_amnt'] * (1 + test_df['r_escenario_2']))\n",
    "# Calculate the total expected return as a percentage of the total loan amount\n",
    "t_r = expected_return.sum() / test_df['loan_amnt'].sum()\n",
    "\n",
    "# Print the total expected return as a percentage\n",
    "print(\"Total expected return: {:.2f}%\".format(t_r * 100))"
   ]
  },
  {
   "cell_type": "markdown",
   "metadata": {},
   "source": [
    "Explicación: Necesitas una tasa de interés de 1.2/P(pago) - 1 para tener un retorno del 100%"
   ]
  },
  {
   "cell_type": "markdown",
   "metadata": {},
   "source": [
    "## Escenario 3"
   ]
  },
  {
   "cell_type": "markdown",
   "metadata": {},
   "source": [
    "Que el numero maximo de personas que caigan en impago sea de 10%. Osea que al realizar el prestamo a lo mas el 10% de las personas no pague."
   ]
  },
  {
   "cell_type": "code",
   "execution_count": 40,
   "metadata": {},
   "outputs": [
    {
     "data": {
      "text/plain": [
       "55741    True\n",
       "35406    True\n",
       "66066    True\n",
       "10788    True\n",
       "70834    True\n",
       "         ... \n",
       "17331    True\n",
       "19490    True\n",
       "24995    True\n",
       "46439    True\n",
       "54549    True\n",
       "Name: loan, Length: 17228, dtype: bool"
      ]
     },
     "execution_count": 40,
     "metadata": {},
     "output_type": "execute_result"
    }
   ],
   "source": [
    "test_df['loan'] = test_df['payment_proba'] > 0.1\n",
    "test_df['loan']"
   ]
  },
  {
   "cell_type": "code",
   "execution_count": 42,
   "metadata": {},
   "outputs": [
    {
     "name": "stdout",
     "output_type": "stream",
     "text": [
      "Proporción de registros con valor False en 'loan': 6.07%\n"
     ]
    }
   ],
   "source": [
    "proporcion_false = test_df['loan'].value_counts(normalize=True).get(False, 0)\n",
    "\n",
    "print(f\"Proporción de registros con valor False en 'loan': {proporcion_false:.2%}\")"
   ]
  },
  {
   "cell_type": "markdown",
   "metadata": {},
   "source": [
    "Explicacion: No hay que prestarle a los clientes que tienen probabilidad de pago menor al 10%."
   ]
  },
  {
   "cell_type": "markdown",
   "metadata": {},
   "source": [
    "# Explicacion"
   ]
  },
  {
   "cell_type": "markdown",
   "metadata": {},
   "source": [
    "Explica detalladamente los problemas que podria tener tu modelo y los supuestos que decidiste tomar para simplificar el ejercicio y que implicaciones tiene en la realidad."
   ]
  },
  {
   "cell_type": "markdown",
   "metadata": {},
   "source": [
    "Limitaciones:\n",
    "\n",
    "    Los datos de entrenamiento no son sensibles a cambios en el mundo real como la inflación, crisis económica, etc... Habría que tener un modelo más robusto y con variables que puedan tomar en cuenta el estado económico del sitio en el que va a estar el banco.\n",
    "\n",
    "    No estoy tomando en cuenta que la tasa de interés que le proponga al cliente va a afectar en su toma de decisión de aceptar el préstamo o irse con otro banco. Esto afecta ya que si detecto que un cliente tiene una probabilidad de impago grande, le ofreceré una tasa de interés muy grande y por lo tanto ya no acepte el préstamo y lo intente con otro banco."
   ]
  },
  {
   "cell_type": "code",
   "execution_count": null,
   "metadata": {},
   "outputs": [],
   "source": []
  },
  {
   "cell_type": "markdown",
   "metadata": {},
   "source": []
  }
 ],
 "metadata": {
  "kernelspec": {
   "display_name": "automl_env",
   "language": "python",
   "name": "python3"
  },
  "language_info": {
   "codemirror_mode": {
    "name": "ipython",
    "version": 3
   },
   "file_extension": ".py",
   "mimetype": "text/x-python",
   "name": "python",
   "nbconvert_exporter": "python",
   "pygments_lexer": "ipython3",
   "version": "3.10.13"
  }
 },
 "nbformat": 4,
 "nbformat_minor": 2
}
